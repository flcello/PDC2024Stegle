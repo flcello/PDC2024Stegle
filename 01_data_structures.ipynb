{
 "cells": [
  {
   "cell_type": "markdown",
   "id": "1df5eee7",
   "metadata": {
    "id": "1df5eee7"
   },
   "source": [
    "# Data structures for single-cell and multi-modal data"
   ]
  },
  {
   "cell_type": "markdown",
   "id": "2fffa676",
   "metadata": {},
   "source": [
    "[![Open In Colab](https://colab.research.google.com/assets/colab-badge.svg)](https://github.com/flcello/PDC2024Stegle/blob/master/01_data_structures.ipynb)"
   ]
  },
  {
   "cell_type": "markdown",
   "id": "96450365",
   "metadata": {},
   "source": [
    "In this exercise, we'll get familiar with the AnnData and MuData frameworks for working with single-cell and multi-modal data in Python.\n",
    "These frameworks make working with data much more convenient compared to using for example plain Numpy arrays or Pandas DataFrames. In the last part of the exercise, we'll process some actual data using these frameworks."
   ]
  },
  {
   "cell_type": "code",
   "execution_count": null,
   "id": "2e33bc13",
   "metadata": {},
   "outputs": [],
   "source": [
    "# !pip install muon==0.1.5 mudatasets mofapy2 mofax leidenalg seaborn==0.12.2 \"numpy<2.0\" anndata==0.10.2"
   ]
  },
  {
   "cell_type": "markdown",
   "id": "e66d659e",
   "metadata": {
    "id": "e66d659e"
   },
   "source": [
    "## AnnData"
   ]
  },
  {
   "cell_type": "markdown",
   "id": "68c05396",
   "metadata": {
    "id": "68c05396"
   },
   "source": [
    "You can think of an AnnData object as a data matrix of observations x variables with additional metadata. Visit the [documentation](https://anndata.readthedocs.io/en/latest/index.html) for a [quick introduction](https://anndata.readthedocs.io/en/latest/tutorials/notebooks/getting-started.html)\n",
    "\n",
    "To demonstrate basic usage, we first import relevant Python packages and then create an AnnData object with random data."
   ]
  },
  {
   "cell_type": "code",
   "execution_count": 27,
   "id": "b417049c",
   "metadata": {},
   "outputs": [
    {
     "data": {
      "text/plain": [
       "array([[0, 0, 0, ..., 1, 1, 3],\n",
       "       [1, 0, 0, ..., 0, 2, 1],\n",
       "       [2, 1, 0, ..., 4, 0, 1],\n",
       "       ...,\n",
       "       [1, 0, 1, ..., 0, 1, 1],\n",
       "       [2, 2, 0, ..., 2, 1, 2],\n",
       "       [2, 0, 1, ..., 1, 1, 1]])"
      ]
     },
     "execution_count": 27,
     "metadata": {},
     "output_type": "execute_result"
    }
   ],
   "source": [
    "counts"
   ]
  },
  {
   "cell_type": "code",
   "execution_count": null,
   "id": "25bdb245",
   "metadata": {
    "colab": {
     "base_uri": "https://localhost:8080/"
    },
    "executionInfo": {
     "elapsed": 4,
     "status": "ok",
     "timestamp": 1663594871665,
     "user": {
      "displayName": "Daniel",
      "userId": "17648508233476402131"
     },
     "user_tz": -120
    },
    "id": "25bdb245",
    "outputId": "f5273060-36ca-4dca-bac1-775037c678dc"
   },
   "outputs": [
    {
     "data": {
      "text/plain": [
       "AnnData object with n_obs × n_vars = 100 × 2000"
      ]
     },
     "execution_count": 26,
     "metadata": {},
     "output_type": "execute_result"
    }
   ],
   "source": [
    "import anndata\n",
    "import numpy as np\n",
    "\n",
    "# Simulate count matrix with 100 rows (observations) and 2000 columns (features)\n",
    "counts = np.random.poisson(1, size=(100, 2000))\n",
    "adata = anndata.AnnData(counts)\n",
    "adata"
   ]
  },
  {
   "cell_type": "markdown",
   "id": "1e3761ea",
   "metadata": {},
   "source": [
    "The .X attribute contains the data matrix."
   ]
  },
  {
   "cell_type": "code",
   "execution_count": 28,
   "id": "61dc1fb2",
   "metadata": {},
   "outputs": [
    {
     "data": {
      "text/plain": [
       "array([[0, 0, 0, ..., 1, 1, 3],\n",
       "       [1, 0, 0, ..., 0, 2, 1],\n",
       "       [2, 1, 0, ..., 4, 0, 1],\n",
       "       ...,\n",
       "       [1, 0, 1, ..., 0, 1, 1],\n",
       "       [2, 2, 0, ..., 2, 1, 2],\n",
       "       [2, 0, 1, ..., 1, 1, 1]])"
      ]
     },
     "execution_count": 28,
     "metadata": {},
     "output_type": "execute_result"
    }
   ],
   "source": [
    "adata.X"
   ]
  },
  {
   "cell_type": "markdown",
   "id": "a340bffb",
   "metadata": {},
   "source": [
    "For very large and sparse data matrices (many zeros), it's recommended to convert the numpy array to a sparse matrix object first, this is more memory efficient."
   ]
  },
  {
   "cell_type": "code",
   "execution_count": null,
   "id": "be228e06",
   "metadata": {},
   "outputs": [],
   "source": [
    "from scipy.sparse import csr_matrix\n",
    "\n",
    "# convert counts to a sparse matrix\n",
    "counts_sparse = csr_matrix(counts)\n",
    "adata_sparse = anndata.AnnData(counts_sparse)\n",
    "adata_sparse"
   ]
  },
  {
   "cell_type": "markdown",
   "id": "2f5a2a70",
   "metadata": {},
   "source": [
    "Now the .X attribute is a sparse matrix."
   ]
  },
  {
   "cell_type": "code",
   "execution_count": 29,
   "id": "8a4a0e4a",
   "metadata": {
    "colab": {
     "base_uri": "https://localhost:8080/"
    },
    "executionInfo": {
     "elapsed": 4,
     "status": "ok",
     "timestamp": 1663594875774,
     "user": {
      "displayName": "Daniel",
      "userId": "17648508233476402131"
     },
     "user_tz": -120
    },
    "id": "8a4a0e4a",
    "outputId": "17e9c488-0350-4e2c-ad7c-576071fc8d11"
   },
   "outputs": [
    {
     "data": {
      "text/plain": [
       "<Compressed Sparse Row sparse matrix of dtype 'int64'\n",
       "\twith 126636 stored elements and shape (100, 2000)>"
      ]
     },
     "execution_count": 29,
     "metadata": {},
     "output_type": "execute_result"
    }
   ],
   "source": [
    "adata_sparse.X"
   ]
  },
  {
   "cell_type": "markdown",
   "id": "fed6333e",
   "metadata": {
    "id": "fed6333e"
   },
   "source": [
    "Our AnnData object does not have any metadata yet. We can assign names to observations (cells) and variables (genes)."
   ]
  },
  {
   "cell_type": "code",
   "execution_count": 32,
   "id": "f40dfd71",
   "metadata": {
    "colab": {
     "base_uri": "https://localhost:8080/"
    },
    "executionInfo": {
     "elapsed": 7,
     "status": "ok",
     "timestamp": 1663594877986,
     "user": {
      "displayName": "Daniel",
      "userId": "17648508233476402131"
     },
     "user_tz": -120
    },
    "id": "f40dfd71",
    "outputId": "f313ae6a-e93b-4c00-858e-4b35f716016a"
   },
   "outputs": [
    {
     "data": {
      "text/plain": [
       "AnnData object with n_obs × n_vars = 100 × 2000"
      ]
     },
     "execution_count": 32,
     "metadata": {},
     "output_type": "execute_result"
    }
   ],
   "source": [
    "adata.obs_names = [f\"Cell_{i}\" for i in range(adata.n_obs)]\n",
    "adata.var_names = [f\"Gene_{i}\" for i in range(adata.n_vars)]\n",
    "adata"
   ]
  },
  {
   "cell_type": "markdown",
   "id": "58641d90",
   "metadata": {
    "id": "58641d90"
   },
   "source": [
    "Now we can subset the AnnData object using cell and gene names."
   ]
  },
  {
   "cell_type": "code",
   "execution_count": 35,
   "id": "c84838fc",
   "metadata": {
    "colab": {
     "base_uri": "https://localhost:8080/"
    },
    "executionInfo": {
     "elapsed": 5,
     "status": "ok",
     "timestamp": 1663594880111,
     "user": {
      "displayName": "Daniel",
      "userId": "17648508233476402131"
     },
     "user_tz": -120
    },
    "id": "c84838fc",
    "outputId": "1452301c-2dcd-4ddd-80ea-4e58c1d94839"
   },
   "outputs": [
    {
     "data": {
      "text/plain": [
       "ArrayView([[0, 0],\n",
       "           [1, 2]])"
      ]
     },
     "execution_count": 35,
     "metadata": {},
     "output_type": "execute_result"
    }
   ],
   "source": [
    "adata[[\"Cell_1\", \"Cell_10\"], [\"Gene_5\", \"Gene_1900\"]].X"
   ]
  },
  {
   "cell_type": "markdown",
   "id": "a473579e",
   "metadata": {
    "id": "a473579e"
   },
   "source": [
    "Note that we obtained a view of an AnnData object. The view does not store any data but points to the original AnnData object instead to save memory. The view will automatically convert itself to a full AnnData object by copying the relevant subset of the original object if we try to add some data to the view.\n",
    "\n",
    "We can also add some metadata describing the observations. To demonstrate this, we randomly assign one of three random cell types to a column in the `.obs` attribute which is a Pandas DataFrame."
   ]
  },
  {
   "cell_type": "code",
   "execution_count": null,
   "id": "18a6ed12",
   "metadata": {
    "colab": {
     "base_uri": "https://localhost:8080/",
     "height": 424
    },
    "executionInfo": {
     "elapsed": 475,
     "status": "ok",
     "timestamp": 1663594882558,
     "user": {
      "displayName": "Daniel",
      "userId": "17648508233476402131"
     },
     "user_tz": -120
    },
    "id": "18a6ed12",
    "outputId": "4a3627cf-6c71-4978-b262-a701c547421b"
   },
   "outputs": [],
   "source": [
    "adata.obs[\"cell_type\"] = np.random.choice([\"B\", \"T\", \"Monocyte\"], size=(adata.n_obs,))\n",
    "adata.obs"
   ]
  },
  {
   "cell_type": "markdown",
   "id": "ecfe6178",
   "metadata": {
    "id": "ecfe6178"
   },
   "source": [
    "Note that the description of the AnnData object now includes the new column."
   ]
  },
  {
   "cell_type": "code",
   "execution_count": null,
   "id": "0d04e685",
   "metadata": {
    "colab": {
     "base_uri": "https://localhost:8080/"
    },
    "executionInfo": {
     "elapsed": 6,
     "status": "ok",
     "timestamp": 1663594884922,
     "user": {
      "displayName": "Daniel",
      "userId": "17648508233476402131"
     },
     "user_tz": -120
    },
    "id": "0d04e685",
    "outputId": "e2d04cd0-71a5-47f9-deb7-539601510789"
   },
   "outputs": [],
   "source": [
    "adata"
   ]
  },
  {
   "cell_type": "markdown",
   "id": "677387f7",
   "metadata": {
    "id": "677387f7"
   },
   "source": [
    "We can also subset the AnnData object using boolean indexing. For example, we can get all B cells."
   ]
  },
  {
   "cell_type": "code",
   "execution_count": null,
   "id": "201c19a5",
   "metadata": {
    "colab": {
     "base_uri": "https://localhost:8080/"
    },
    "executionInfo": {
     "elapsed": 3,
     "status": "ok",
     "timestamp": 1663594888382,
     "user": {
      "displayName": "Daniel",
      "userId": "17648508233476402131"
     },
     "user_tz": -120
    },
    "id": "201c19a5",
    "outputId": "e35cc1f9-4d9d-4d5f-83d7-2b5b1ad29682"
   },
   "outputs": [],
   "source": [
    "bdata = adata[adata.obs[\"cell_type\"] == \"B\"]\n",
    "bdata"
   ]
  },
  {
   "cell_type": "markdown",
   "id": "22576f03",
   "metadata": {
    "id": "22576f03"
   },
   "source": [
    "AnnData can store multiple data matrices in the `.layers` attribute. This is useful if one wants to keep both original and transformed, e.g. normalized, data. All matrices must have the same shape as the original `.X`."
   ]
  },
  {
   "cell_type": "code",
   "execution_count": null,
   "id": "299949ee",
   "metadata": {
    "colab": {
     "base_uri": "https://localhost:8080/"
    },
    "executionInfo": {
     "elapsed": 4,
     "status": "ok",
     "timestamp": 1663594890500,
     "user": {
      "displayName": "Daniel",
      "userId": "17648508233476402131"
     },
     "user_tz": -120
    },
    "id": "299949ee",
    "outputId": "a6f0759c-96b4-4766-e8b8-743cde72f515"
   },
   "outputs": [],
   "source": [
    "adata.layers[\"log_transformed\"] = np.log1p(adata.X)\n",
    "adata"
   ]
  },
  {
   "cell_type": "markdown",
   "id": "7FXcr7Ui-7bW",
   "metadata": {
    "id": "7FXcr7Ui-7bW"
   },
   "source": [
    "### Exercise\n",
    "Try to add a new layer called `counts` to the AnnData object with the reverse transformation, `np.expm1()`."
   ]
  },
  {
   "cell_type": "code",
   "execution_count": null,
   "id": "UPkhAcH1-5kq",
   "metadata": {
    "id": "UPkhAcH1-5kq"
   },
   "outputs": [],
   "source": [
    "# Your solution here\n",
    "# ...\n"
   ]
  },
  {
   "cell_type": "markdown",
   "id": "08e78916",
   "metadata": {},
   "source": [
    "Inspect the resulting matrix. Is it different to the original values in `.X`?"
   ]
  },
  {
   "cell_type": "code",
   "execution_count": null,
   "id": "qtq34mukBJXo",
   "metadata": {
    "id": "qtq34mukBJXo"
   },
   "outputs": [],
   "source": [
    "# Your solution here\n",
    "# ..."
   ]
  },
  {
   "cell_type": "markdown",
   "id": "a29c7685",
   "metadata": {},
   "source": [
    "Now repeat the transformation steps with the `adata_sparse` object. To display the values of a sparse matrix, you can use the `.toarray()` method."
   ]
  },
  {
   "cell_type": "markdown",
   "id": "6ddd0094",
   "metadata": {
    "id": "6ddd0094"
   },
   "source": [
    "## MuData"
   ]
  },
  {
   "cell_type": "markdown",
   "id": "42f93fbc",
   "metadata": {
    "id": "42f93fbc"
   },
   "source": [
    "MuData objects contain a dictionary of AnnData objects and are used for multimodal data. AnnData objects within a MuData container are aligned and can be jointly subsetted.\n",
    "\n",
    "To demonstrate this, we will use the `adata` and `bdata` objects from above. Since MuData assumes that variables are unique to each modality, we first change `bdata`'s variable names and then create a MuData object."
   ]
  },
  {
   "cell_type": "code",
   "execution_count": null,
   "id": "3461f286",
   "metadata": {
    "id": "3461f286"
   },
   "outputs": [],
   "source": [
    "import mudata\n",
    "mudata.set_options()\n",
    "\n",
    "# rename the variable names in bdata to \"Protein_0\", \"Protein_1\", ...\n",
    "bdata.var_names = [f\"Protein_{i}\" for i in range(bdata.n_vars)]\n",
    "bdata.var_names"
   ]
  },
  {
   "cell_type": "code",
   "execution_count": null,
   "id": "6cec1c25",
   "metadata": {},
   "outputs": [],
   "source": [
    "# create a multimodal MuData object from the two AnnData objects\n",
    "mdata = mudata.MuData({\"rna\": adata, \"prot\": bdata})\n",
    "mdata"
   ]
  },
  {
   "cell_type": "markdown",
   "id": "52aa9ca1",
   "metadata": {
    "id": "52aa9ca1"
   },
   "source": [
    "We can access individual modalities using a dictionary-like interface."
   ]
  },
  {
   "cell_type": "code",
   "execution_count": null,
   "id": "5a979c1f",
   "metadata": {
    "colab": {
     "base_uri": "https://localhost:8080/"
    },
    "executionInfo": {
     "elapsed": 5,
     "status": "ok",
     "timestamp": 1663595600480,
     "user": {
      "displayName": "Daniel",
      "userId": "17648508233476402131"
     },
     "user_tz": -120
    },
    "id": "5a979c1f",
    "outputId": "d4587336-6372-4c7a-bf7b-8350cb4bb341"
   },
   "outputs": [],
   "source": [
    "mdata[\"rna\"]"
   ]
  },
  {
   "cell_type": "markdown",
   "id": "79726515",
   "metadata": {
    "id": "79726515"
   },
   "source": [
    "We can subset the MuData object using integer or string based indexing."
   ]
  },
  {
   "cell_type": "code",
   "execution_count": null,
   "id": "5cb10e8d",
   "metadata": {
    "colab": {
     "base_uri": "https://localhost:8080/",
     "height": 156
    },
    "executionInfo": {
     "elapsed": 5,
     "status": "ok",
     "timestamp": 1663595602386,
     "user": {
      "displayName": "Daniel",
      "userId": "17648508233476402131"
     },
     "user_tz": -120
    },
    "id": "5cb10e8d",
    "outputId": "819805b6-3fdf-432f-a3f5-285dae33f585"
   },
   "outputs": [],
   "source": [
    "mdata[20:42, [\"Gene_42\", \"Protein_42\"]]"
   ]
  },
  {
   "cell_type": "markdown",
   "id": "e60cff6d",
   "metadata": {
    "id": "e60cff6d"
   },
   "source": [
    "Note that less than the expected 22 cells from the `prot` modality are included in the subset. This is because we created the `prot` modality from only a subset of all cells, and MuData uses the cell names (`.obs_names`) to mach observations in different modalities to each other."
   ]
  },
  {
   "cell_type": "markdown",
   "id": "93b7df4d",
   "metadata": {},
   "source": [
    "### Exercise"
   ]
  },
  {
   "cell_type": "markdown",
   "id": "a5b906c1",
   "metadata": {},
   "source": [
    "Pick two random Protein features and plot them against each other using a scatterplot."
   ]
  },
  {
   "cell_type": "code",
   "execution_count": null,
   "id": "68ebfeab",
   "metadata": {},
   "outputs": [],
   "source": [
    "# Your solution here\n",
    "# ...\n"
   ]
  },
  {
   "cell_type": "markdown",
   "id": "106b2049",
   "metadata": {},
   "source": [
    "Simulate missing measurements by placing `np.nan` in the first 10 cells of the \"prot\" modality."
   ]
  },
  {
   "cell_type": "code",
   "execution_count": null,
   "id": "c79c5b56",
   "metadata": {},
   "outputs": [],
   "source": [
    "# Your solution here\n",
    "# ..."
   ]
  }
 ],
 "metadata": {
  "colab": {
   "collapsed_sections": [],
   "provenance": [],
   "toc_visible": true
  },
  "kernelspec": {
   "display_name": "pdcstegle",
   "language": "python",
   "name": "python3"
  },
  "language_info": {
   "codemirror_mode": {
    "name": "ipython",
    "version": 3
   },
   "file_extension": ".py",
   "mimetype": "text/x-python",
   "name": "python",
   "nbconvert_exporter": "python",
   "pygments_lexer": "ipython3",
   "version": "3.10.15"
  }
 },
 "nbformat": 4,
 "nbformat_minor": 5
}
