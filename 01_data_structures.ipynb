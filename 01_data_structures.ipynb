{
 "cells": [
  {
   "cell_type": "markdown",
   "id": "1df5eee7",
   "metadata": {
    "id": "1df5eee7"
   },
   "source": [
    "# Data structures for single-cell and multi-modal data"
   ]
  },
  {
   "cell_type": "markdown",
   "id": "96450365",
   "metadata": {},
   "source": [
    "In this exercise, we'll get familiar with the AnnData and MuData frameworks for working with single-cell and multi-modal data in Python.\n",
    "These frameworks make working with data much more convenient compared to using for example plain Numpy arrays or Pandas DataFrames. In the last part of the exercise, we'll process some actual data using these frameworks."
   ]
  },
  {
   "cell_type": "markdown",
   "id": "e66d659e",
   "metadata": {
    "id": "e66d659e"
   },
   "source": [
    "## AnnData"
   ]
  },
  {
   "cell_type": "markdown",
   "id": "68c05396",
   "metadata": {
    "id": "68c05396"
   },
   "source": [
    "You can think of an AnnData object as a data matrix of observations x variables with additional metadata. Visit the [documentation](https://anndata.readthedocs.io/en/latest/index.html) for a [quick introduction](https://anndata.readthedocs.io/en/latest/tutorials/notebooks/getting-started.html)\n",
    "\n",
    "To demonstrate basic usage, we first import relevant Python packages and then create an AnnData object with random data."
   ]
  },
  {
   "cell_type": "code",
   "execution_count": 1,
   "id": "25bdb245",
   "metadata": {
    "colab": {
     "base_uri": "https://localhost:8080/"
    },
    "executionInfo": {
     "elapsed": 4,
     "status": "ok",
     "timestamp": 1663594871665,
     "user": {
      "displayName": "Daniel",
      "userId": "17648508233476402131"
     },
     "user_tz": -120
    },
    "id": "25bdb245",
    "outputId": "f5273060-36ca-4dca-bac1-775037c678dc"
   },
   "outputs": [
    {
     "data": {
      "text/plain": [
       "AnnData object with n_obs × n_vars = 100 × 2000"
      ]
     },
     "execution_count": 1,
     "metadata": {},
     "output_type": "execute_result"
    }
   ],
   "source": [
    "import anndata\n",
    "import numpy as np\n",
    "\n",
    "# Simulate count matrix with 100 rows (observations) and 2000 columns (features)\n",
    "counts = np.random.poisson(1, size=(100, 2000))\n",
    "adata = anndata.AnnData(counts)\n",
    "adata"
   ]
  },
  {
   "cell_type": "markdown",
   "id": "1e3761ea",
   "metadata": {},
   "source": [
    "The .X attribute contains the data matrix."
   ]
  },
  {
   "cell_type": "code",
   "execution_count": 2,
   "id": "61dc1fb2",
   "metadata": {},
   "outputs": [
    {
     "data": {
      "text/plain": [
       "array([[0, 1, 0, ..., 0, 1, 0],\n",
       "       [1, 2, 2, ..., 3, 0, 2],\n",
       "       [0, 1, 2, ..., 1, 0, 1],\n",
       "       ...,\n",
       "       [1, 1, 1, ..., 2, 1, 0],\n",
       "       [3, 1, 1, ..., 1, 0, 0],\n",
       "       [2, 1, 1, ..., 1, 1, 2]])"
      ]
     },
     "execution_count": 2,
     "metadata": {},
     "output_type": "execute_result"
    }
   ],
   "source": [
    "adata.X"
   ]
  },
  {
   "cell_type": "markdown",
   "id": "a340bffb",
   "metadata": {},
   "source": [
    "For very large and sparse data matrices (many zeros), it's recommended to convert the numpy array to a sparse matrix object first, this is more memory efficient."
   ]
  },
  {
   "cell_type": "code",
   "execution_count": 3,
   "id": "be228e06",
   "metadata": {},
   "outputs": [
    {
     "data": {
      "text/plain": [
       "AnnData object with n_obs × n_vars = 100 × 2000"
      ]
     },
     "execution_count": 3,
     "metadata": {},
     "output_type": "execute_result"
    }
   ],
   "source": [
    "from scipy.sparse import csr_matrix\n",
    "\n",
    "# convert counts to a sparse matrix\n",
    "counts_sparse = csr_matrix(counts)\n",
    "adata_sparse = anndata.AnnData(counts_sparse)\n",
    "adata_sparse"
   ]
  },
  {
   "cell_type": "markdown",
   "id": "2f5a2a70",
   "metadata": {},
   "source": [
    "Now the .X attribute is a sparse matrix."
   ]
  },
  {
   "cell_type": "code",
   "execution_count": 4,
   "id": "8a4a0e4a",
   "metadata": {
    "colab": {
     "base_uri": "https://localhost:8080/"
    },
    "executionInfo": {
     "elapsed": 4,
     "status": "ok",
     "timestamp": 1663594875774,
     "user": {
      "displayName": "Daniel",
      "userId": "17648508233476402131"
     },
     "user_tz": -120
    },
    "id": "8a4a0e4a",
    "outputId": "17e9c488-0350-4e2c-ad7c-576071fc8d11"
   },
   "outputs": [
    {
     "data": {
      "text/plain": [
       "<Compressed Sparse Row sparse matrix of dtype 'int64'\n",
       "\twith 126636 stored elements and shape (100, 2000)>"
      ]
     },
     "execution_count": 4,
     "metadata": {},
     "output_type": "execute_result"
    }
   ],
   "source": [
    "adata_sparse.X"
   ]
  },
  {
   "cell_type": "markdown",
   "id": "fed6333e",
   "metadata": {
    "id": "fed6333e"
   },
   "source": [
    "Our AnnData object does not have any metadata yet. We can assign names to observations (cells) and variables (genes)."
   ]
  },
  {
   "cell_type": "code",
   "execution_count": 5,
   "id": "f40dfd71",
   "metadata": {
    "colab": {
     "base_uri": "https://localhost:8080/"
    },
    "executionInfo": {
     "elapsed": 7,
     "status": "ok",
     "timestamp": 1663594877986,
     "user": {
      "displayName": "Daniel",
      "userId": "17648508233476402131"
     },
     "user_tz": -120
    },
    "id": "f40dfd71",
    "outputId": "f313ae6a-e93b-4c00-858e-4b35f716016a"
   },
   "outputs": [
    {
     "data": {
      "text/plain": [
       "Index(['Cell_0', 'Cell_1', 'Cell_2', 'Cell_3', 'Cell_4', 'Cell_5', 'Cell_6',\n",
       "       'Cell_7', 'Cell_8', 'Cell_9', 'Cell_10', 'Cell_11', 'Cell_12',\n",
       "       'Cell_13', 'Cell_14', 'Cell_15', 'Cell_16', 'Cell_17', 'Cell_18',\n",
       "       'Cell_19', 'Cell_20', 'Cell_21', 'Cell_22', 'Cell_23', 'Cell_24',\n",
       "       'Cell_25', 'Cell_26', 'Cell_27', 'Cell_28', 'Cell_29', 'Cell_30',\n",
       "       'Cell_31', 'Cell_32', 'Cell_33', 'Cell_34', 'Cell_35', 'Cell_36',\n",
       "       'Cell_37', 'Cell_38', 'Cell_39', 'Cell_40', 'Cell_41', 'Cell_42',\n",
       "       'Cell_43', 'Cell_44', 'Cell_45', 'Cell_46', 'Cell_47', 'Cell_48',\n",
       "       'Cell_49', 'Cell_50', 'Cell_51', 'Cell_52', 'Cell_53', 'Cell_54',\n",
       "       'Cell_55', 'Cell_56', 'Cell_57', 'Cell_58', 'Cell_59', 'Cell_60',\n",
       "       'Cell_61', 'Cell_62', 'Cell_63', 'Cell_64', 'Cell_65', 'Cell_66',\n",
       "       'Cell_67', 'Cell_68', 'Cell_69', 'Cell_70', 'Cell_71', 'Cell_72',\n",
       "       'Cell_73', 'Cell_74', 'Cell_75', 'Cell_76', 'Cell_77', 'Cell_78',\n",
       "       'Cell_79', 'Cell_80', 'Cell_81', 'Cell_82', 'Cell_83', 'Cell_84',\n",
       "       'Cell_85', 'Cell_86', 'Cell_87', 'Cell_88', 'Cell_89', 'Cell_90',\n",
       "       'Cell_91', 'Cell_92', 'Cell_93', 'Cell_94', 'Cell_95', 'Cell_96',\n",
       "       'Cell_97', 'Cell_98', 'Cell_99'],\n",
       "      dtype='object')"
      ]
     },
     "execution_count": 5,
     "metadata": {},
     "output_type": "execute_result"
    }
   ],
   "source": [
    "adata.obs_names = [f\"Cell_{i}\" for i in range(adata.n_obs)]\n",
    "adata.var_names = [f\"Gene_{i}\" for i in range(adata.n_vars)]\n",
    "adata.obs_names"
   ]
  },
  {
   "cell_type": "markdown",
   "id": "58641d90",
   "metadata": {
    "id": "58641d90"
   },
   "source": [
    "Now we can subset the AnnData object using cell and gene names."
   ]
  },
  {
   "cell_type": "code",
   "execution_count": 6,
   "id": "c84838fc",
   "metadata": {
    "colab": {
     "base_uri": "https://localhost:8080/"
    },
    "executionInfo": {
     "elapsed": 5,
     "status": "ok",
     "timestamp": 1663594880111,
     "user": {
      "displayName": "Daniel",
      "userId": "17648508233476402131"
     },
     "user_tz": -120
    },
    "id": "c84838fc",
    "outputId": "1452301c-2dcd-4ddd-80ea-4e58c1d94839"
   },
   "outputs": [
    {
     "data": {
      "text/plain": [
       "View of AnnData object with n_obs × n_vars = 2 × 2"
      ]
     },
     "execution_count": 6,
     "metadata": {},
     "output_type": "execute_result"
    }
   ],
   "source": [
    "adata[[\"Cell_1\", \"Cell_10\"], [\"Gene_5\", \"Gene_1900\"]]"
   ]
  },
  {
   "cell_type": "markdown",
   "id": "a473579e",
   "metadata": {
    "id": "a473579e"
   },
   "source": [
    "Note that we obtained a view of an AnnData object. The view does not store any data but points to the original AnnData object instead to save memory. The view will automatically convert itself to a full AnnData object by copying the relevant subset of the original object if we try to add some data to the view.\n",
    "\n",
    "We can also add some metadata describing the observations. To demonstrate this, we randomly assign one of three random cell types to a column in the `.obs` attribute which is a Pandas DataFrame."
   ]
  },
  {
   "cell_type": "code",
   "execution_count": 7,
   "id": "18a6ed12",
   "metadata": {
    "colab": {
     "base_uri": "https://localhost:8080/",
     "height": 424
    },
    "executionInfo": {
     "elapsed": 475,
     "status": "ok",
     "timestamp": 1663594882558,
     "user": {
      "displayName": "Daniel",
      "userId": "17648508233476402131"
     },
     "user_tz": -120
    },
    "id": "18a6ed12",
    "outputId": "4a3627cf-6c71-4978-b262-a701c547421b"
   },
   "outputs": [
    {
     "data": {
      "text/html": [
       "<div>\n",
       "<style scoped>\n",
       "    .dataframe tbody tr th:only-of-type {\n",
       "        vertical-align: middle;\n",
       "    }\n",
       "\n",
       "    .dataframe tbody tr th {\n",
       "        vertical-align: top;\n",
       "    }\n",
       "\n",
       "    .dataframe thead th {\n",
       "        text-align: right;\n",
       "    }\n",
       "</style>\n",
       "<table border=\"1\" class=\"dataframe\">\n",
       "  <thead>\n",
       "    <tr style=\"text-align: right;\">\n",
       "      <th></th>\n",
       "      <th>cell_type</th>\n",
       "    </tr>\n",
       "  </thead>\n",
       "  <tbody>\n",
       "    <tr>\n",
       "      <th>Cell_0</th>\n",
       "      <td>T</td>\n",
       "    </tr>\n",
       "    <tr>\n",
       "      <th>Cell_1</th>\n",
       "      <td>B</td>\n",
       "    </tr>\n",
       "    <tr>\n",
       "      <th>Cell_2</th>\n",
       "      <td>T</td>\n",
       "    </tr>\n",
       "    <tr>\n",
       "      <th>Cell_3</th>\n",
       "      <td>B</td>\n",
       "    </tr>\n",
       "    <tr>\n",
       "      <th>Cell_4</th>\n",
       "      <td>B</td>\n",
       "    </tr>\n",
       "    <tr>\n",
       "      <th>...</th>\n",
       "      <td>...</td>\n",
       "    </tr>\n",
       "    <tr>\n",
       "      <th>Cell_95</th>\n",
       "      <td>T</td>\n",
       "    </tr>\n",
       "    <tr>\n",
       "      <th>Cell_96</th>\n",
       "      <td>Monocyte</td>\n",
       "    </tr>\n",
       "    <tr>\n",
       "      <th>Cell_97</th>\n",
       "      <td>Monocyte</td>\n",
       "    </tr>\n",
       "    <tr>\n",
       "      <th>Cell_98</th>\n",
       "      <td>B</td>\n",
       "    </tr>\n",
       "    <tr>\n",
       "      <th>Cell_99</th>\n",
       "      <td>Monocyte</td>\n",
       "    </tr>\n",
       "  </tbody>\n",
       "</table>\n",
       "<p>100 rows × 1 columns</p>\n",
       "</div>"
      ],
      "text/plain": [
       "        cell_type\n",
       "Cell_0          T\n",
       "Cell_1          B\n",
       "Cell_2          T\n",
       "Cell_3          B\n",
       "Cell_4          B\n",
       "...           ...\n",
       "Cell_95         T\n",
       "Cell_96  Monocyte\n",
       "Cell_97  Monocyte\n",
       "Cell_98         B\n",
       "Cell_99  Monocyte\n",
       "\n",
       "[100 rows x 1 columns]"
      ]
     },
     "execution_count": 7,
     "metadata": {},
     "output_type": "execute_result"
    }
   ],
   "source": [
    "adata.obs[\"cell_type\"] = np.random.choice([\"B\", \"T\", \"Monocyte\"], size=(adata.n_obs,))\n",
    "adata.obs"
   ]
  },
  {
   "cell_type": "markdown",
   "id": "ecfe6178",
   "metadata": {
    "id": "ecfe6178"
   },
   "source": [
    "Note that the description of the AnnData object now includes the new column."
   ]
  },
  {
   "cell_type": "code",
   "execution_count": 8,
   "id": "0d04e685",
   "metadata": {
    "colab": {
     "base_uri": "https://localhost:8080/"
    },
    "executionInfo": {
     "elapsed": 6,
     "status": "ok",
     "timestamp": 1663594884922,
     "user": {
      "displayName": "Daniel",
      "userId": "17648508233476402131"
     },
     "user_tz": -120
    },
    "id": "0d04e685",
    "outputId": "e2d04cd0-71a5-47f9-deb7-539601510789"
   },
   "outputs": [
    {
     "data": {
      "text/plain": [
       "AnnData object with n_obs × n_vars = 100 × 2000\n",
       "    obs: 'cell_type'"
      ]
     },
     "execution_count": 8,
     "metadata": {},
     "output_type": "execute_result"
    }
   ],
   "source": [
    "adata"
   ]
  },
  {
   "cell_type": "markdown",
   "id": "677387f7",
   "metadata": {
    "id": "677387f7"
   },
   "source": [
    "We can also subset the AnnData object using boolean indexing. For example, we can get all B cells."
   ]
  },
  {
   "cell_type": "code",
   "execution_count": 9,
   "id": "201c19a5",
   "metadata": {
    "colab": {
     "base_uri": "https://localhost:8080/"
    },
    "executionInfo": {
     "elapsed": 3,
     "status": "ok",
     "timestamp": 1663594888382,
     "user": {
      "displayName": "Daniel",
      "userId": "17648508233476402131"
     },
     "user_tz": -120
    },
    "id": "201c19a5",
    "outputId": "e35cc1f9-4d9d-4d5f-83d7-2b5b1ad29682"
   },
   "outputs": [
    {
     "data": {
      "text/plain": [
       "View of AnnData object with n_obs × n_vars = 38 × 2000\n",
       "    obs: 'cell_type'"
      ]
     },
     "execution_count": 9,
     "metadata": {},
     "output_type": "execute_result"
    }
   ],
   "source": [
    "bdata = adata[adata.obs[\"cell_type\"] == \"B\"]\n",
    "bdata"
   ]
  },
  {
   "cell_type": "markdown",
   "id": "22576f03",
   "metadata": {
    "id": "22576f03"
   },
   "source": [
    "AnnData can store multiple data matrices in the `.layers` attribute. This is useful if one wants to keep both original and transformed, e.g. normalized, data. All matrices must have the same shape as the original `.X`."
   ]
  },
  {
   "cell_type": "code",
   "execution_count": 10,
   "id": "299949ee",
   "metadata": {
    "colab": {
     "base_uri": "https://localhost:8080/"
    },
    "executionInfo": {
     "elapsed": 4,
     "status": "ok",
     "timestamp": 1663594890500,
     "user": {
      "displayName": "Daniel",
      "userId": "17648508233476402131"
     },
     "user_tz": -120
    },
    "id": "299949ee",
    "outputId": "a6f0759c-96b4-4766-e8b8-743cde72f515"
   },
   "outputs": [
    {
     "data": {
      "text/plain": [
       "AnnData object with n_obs × n_vars = 100 × 2000\n",
       "    obs: 'cell_type'\n",
       "    layers: 'log_transformed'"
      ]
     },
     "execution_count": 10,
     "metadata": {},
     "output_type": "execute_result"
    }
   ],
   "source": [
    "adata.layers[\"log_transformed\"] = np.log1p(adata.X)\n",
    "adata"
   ]
  },
  {
   "cell_type": "markdown",
   "id": "7FXcr7Ui-7bW",
   "metadata": {
    "id": "7FXcr7Ui-7bW"
   },
   "source": [
    "### Exercise\n",
    "Try to add a new layer called `counts` to the AnnData object with the reverse transformation, `np.expm1()`."
   ]
  },
  {
   "cell_type": "code",
   "execution_count": 11,
   "id": "UPkhAcH1-5kq",
   "metadata": {
    "id": "UPkhAcH1-5kq"
   },
   "outputs": [],
   "source": [
    "# Your solution here\n",
    "# ...\n"
   ]
  },
  {
   "cell_type": "markdown",
   "id": "08e78916",
   "metadata": {},
   "source": [
    "Inspect the resulting matrix. Is it different to the original values in `.X`?"
   ]
  },
  {
   "cell_type": "code",
   "execution_count": 12,
   "id": "qtq34mukBJXo",
   "metadata": {
    "id": "qtq34mukBJXo"
   },
   "outputs": [],
   "source": [
    "# Your solution here\n",
    "# ..."
   ]
  },
  {
   "cell_type": "markdown",
   "id": "a29c7685",
   "metadata": {},
   "source": [
    "Now repeat the transformation steps with the `adata_sparse` object. To display the values of a sparse matrix, you can use the `.toarray()` method."
   ]
  },
  {
   "cell_type": "markdown",
   "id": "6ddd0094",
   "metadata": {
    "id": "6ddd0094"
   },
   "source": [
    "## MuData"
   ]
  },
  {
   "cell_type": "markdown",
   "id": "42f93fbc",
   "metadata": {
    "id": "42f93fbc"
   },
   "source": [
    "MuData objects contain a dictionary of AnnData objects and are used for multimodal data. AnnData objects within a MuData container are aligned and can be jointly subsetted.\n",
    "\n",
    "To demonstrate this, we will use the `adata` and `bdata` objects from above. Since MuData assumes that variables are unique to each modality, we first change `bdata`'s variable names and then create a MuData object."
   ]
  },
  {
   "cell_type": "code",
   "execution_count": 13,
   "id": "3461f286",
   "metadata": {
    "id": "3461f286"
   },
   "outputs": [
    {
     "data": {
      "text/plain": [
       "Index(['Protein_0', 'Protein_1', 'Protein_2', 'Protein_3', 'Protein_4',\n",
       "       'Protein_5', 'Protein_6', 'Protein_7', 'Protein_8', 'Protein_9',\n",
       "       ...\n",
       "       'Protein_1990', 'Protein_1991', 'Protein_1992', 'Protein_1993',\n",
       "       'Protein_1994', 'Protein_1995', 'Protein_1996', 'Protein_1997',\n",
       "       'Protein_1998', 'Protein_1999'],\n",
       "      dtype='object', length=2000)"
      ]
     },
     "execution_count": 13,
     "metadata": {},
     "output_type": "execute_result"
    }
   ],
   "source": [
    "import mudata\n",
    "mudata.set_options()\n",
    "\n",
    "# rename the variable names in bdata to \"Protein_0\", \"Protein_1\", ...\n",
    "bdata.var_names = [f\"Protein_{i}\" for i in range(bdata.n_vars)]\n",
    "bdata.var_names"
   ]
  },
  {
   "cell_type": "code",
   "execution_count": 14,
   "id": "6cec1c25",
   "metadata": {},
   "outputs": [
    {
     "data": {
      "text/html": [
       "<pre>MuData object with n_obs × n_vars = 100 × 4000\n",
       "  2 modalities\n",
       "    rna:\t100 x 2000\n",
       "      obs:\t&#x27;cell_type&#x27;\n",
       "      layers:\t&#x27;log_transformed&#x27;\n",
       "    prot:\t38 x 2000\n",
       "      obs:\t&#x27;cell_type&#x27;\n",
       "      layers:\t&#x27;log_transformed&#x27;</pre>"
      ],
      "text/plain": [
       "MuData object with n_obs × n_vars = 100 × 4000\n",
       "  2 modalities\n",
       "    rna:\t100 x 2000\n",
       "      obs:\t'cell_type'\n",
       "      layers:\t'log_transformed'\n",
       "    prot:\t38 x 2000\n",
       "      obs:\t'cell_type'\n",
       "      layers:\t'log_transformed'"
      ]
     },
     "execution_count": 14,
     "metadata": {},
     "output_type": "execute_result"
    }
   ],
   "source": [
    "# create a multimodal MuData object from the two AnnData objects\n",
    "mdata = mudata.MuData({\"rna\": adata, \"prot\": bdata})\n",
    "mdata"
   ]
  },
  {
   "cell_type": "markdown",
   "id": "52aa9ca1",
   "metadata": {
    "id": "52aa9ca1"
   },
   "source": [
    "We can access individual modalities using a dictionary-like interface."
   ]
  },
  {
   "cell_type": "code",
   "execution_count": 15,
   "id": "5a979c1f",
   "metadata": {
    "colab": {
     "base_uri": "https://localhost:8080/"
    },
    "executionInfo": {
     "elapsed": 5,
     "status": "ok",
     "timestamp": 1663595600480,
     "user": {
      "displayName": "Daniel",
      "userId": "17648508233476402131"
     },
     "user_tz": -120
    },
    "id": "5a979c1f",
    "outputId": "d4587336-6372-4c7a-bf7b-8350cb4bb341"
   },
   "outputs": [
    {
     "data": {
      "text/plain": [
       "AnnData object with n_obs × n_vars = 100 × 2000\n",
       "    obs: 'cell_type'\n",
       "    layers: 'log_transformed'"
      ]
     },
     "execution_count": 15,
     "metadata": {},
     "output_type": "execute_result"
    }
   ],
   "source": [
    "mdata[\"rna\"]"
   ]
  },
  {
   "cell_type": "markdown",
   "id": "79726515",
   "metadata": {
    "id": "79726515"
   },
   "source": [
    "We can subset the MuData object using integer or string based indexing."
   ]
  },
  {
   "cell_type": "code",
   "execution_count": 16,
   "id": "5cb10e8d",
   "metadata": {
    "colab": {
     "base_uri": "https://localhost:8080/",
     "height": 156
    },
    "executionInfo": {
     "elapsed": 5,
     "status": "ok",
     "timestamp": 1663595602386,
     "user": {
      "displayName": "Daniel",
      "userId": "17648508233476402131"
     },
     "user_tz": -120
    },
    "id": "5cb10e8d",
    "outputId": "819805b6-3fdf-432f-a3f5-285dae33f585"
   },
   "outputs": [
    {
     "data": {
      "text/html": [
       "<pre>View of MuData object with n_obs × n_vars = 22 × 2\n",
       "  2 modalities\n",
       "    rna:\t22 x 1\n",
       "      obs:\t&#x27;cell_type&#x27;\n",
       "      layers:\t&#x27;log_transformed&#x27;\n",
       "    prot:\t7 x 1\n",
       "      obs:\t&#x27;cell_type&#x27;\n",
       "      layers:\t&#x27;log_transformed&#x27;</pre>"
      ],
      "text/plain": [
       "View of MuData object with n_obs × n_vars = 22 × 2\n",
       "  2 modalities\n",
       "    rna:\t22 x 1\n",
       "      obs:\t'cell_type'\n",
       "      layers:\t'log_transformed'\n",
       "    prot:\t7 x 1\n",
       "      obs:\t'cell_type'\n",
       "      layers:\t'log_transformed'"
      ]
     },
     "execution_count": 16,
     "metadata": {},
     "output_type": "execute_result"
    }
   ],
   "source": [
    "mdata[20:42, [\"Gene_42\", \"Protein_42\"]]"
   ]
  },
  {
   "cell_type": "markdown",
   "id": "e60cff6d",
   "metadata": {
    "id": "e60cff6d"
   },
   "source": [
    "Note that less than the expected 22 cells from the `prot` modality are included in the subset. This is because we created the `prot` modality from only a subset of all cells, and MuData uses the cell names (`.obs_names`) to mach observations in different modalities to each other."
   ]
  },
  {
   "cell_type": "markdown",
   "id": "93b7df4d",
   "metadata": {},
   "source": [
    "### Exercise"
   ]
  },
  {
   "cell_type": "markdown",
   "id": "a5b906c1",
   "metadata": {},
   "source": [
    "Pick two random Protein features and plot them against each other using a scatterplot."
   ]
  },
  {
   "cell_type": "code",
   "execution_count": 22,
   "id": "68ebfeab",
   "metadata": {},
   "outputs": [],
   "source": [
    "# Your solution here\n",
    "# ..."
   ]
  },
  {
   "cell_type": "markdown",
   "id": "106b2049",
   "metadata": {},
   "source": [
    "Simulate missing measurements by placing `np.nan` in the first 10 cells of the \"prot\" modality."
   ]
  },
  {
   "cell_type": "code",
   "execution_count": null,
   "id": "c79c5b56",
   "metadata": {},
   "outputs": [],
   "source": [
    "# Your solution here\n",
    "# ..."
   ]
  }
 ],
 "metadata": {
  "colab": {
   "collapsed_sections": [],
   "provenance": [],
   "toc_visible": true
  },
  "kernelspec": {
   "display_name": "pdcstegle",
   "language": "python",
   "name": "python3"
  },
  "language_info": {
   "codemirror_mode": {
    "name": "ipython",
    "version": 3
   },
   "file_extension": ".py",
   "mimetype": "text/x-python",
   "name": "python",
   "nbconvert_exporter": "python",
   "pygments_lexer": "ipython3",
   "version": "3.10.15"
  }
 },
 "nbformat": 4,
 "nbformat_minor": 5
}
